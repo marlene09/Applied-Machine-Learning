{
 "cells": [
  {
   "cell_type": "code",
   "execution_count": 1,
   "id": "657ff5f8",
   "metadata": {},
   "outputs": [
    {
     "data": {
      "text/html": [
       "<div>\n",
       "<style scoped>\n",
       "    .dataframe tbody tr th:only-of-type {\n",
       "        vertical-align: middle;\n",
       "    }\n",
       "\n",
       "    .dataframe tbody tr th {\n",
       "        vertical-align: top;\n",
       "    }\n",
       "\n",
       "    .dataframe thead th {\n",
       "        text-align: right;\n",
       "    }\n",
       "</style>\n",
       "<table border=\"1\" class=\"dataframe\">\n",
       "  <thead>\n",
       "    <tr style=\"text-align: right;\">\n",
       "      <th></th>\n",
       "      <th>Text</th>\n",
       "      <th>Sentiment</th>\n",
       "    </tr>\n",
       "  </thead>\n",
       "  <tbody>\n",
       "    <tr>\n",
       "      <th>11841</th>\n",
       "      <td>Al Pacino was once an actor capable of making ...</td>\n",
       "      <td>0</td>\n",
       "    </tr>\n",
       "    <tr>\n",
       "      <th>19602</th>\n",
       "      <td>After Chaplin made one of his best films: Doug...</td>\n",
       "      <td>0</td>\n",
       "    </tr>\n",
       "    <tr>\n",
       "      <th>45519</th>\n",
       "      <td>This movie is sort of a Carrie meets Heavy Met...</td>\n",
       "      <td>1</td>\n",
       "    </tr>\n",
       "    <tr>\n",
       "      <th>25747</th>\n",
       "      <td>I have fond memories of watching this visually...</td>\n",
       "      <td>1</td>\n",
       "    </tr>\n",
       "    <tr>\n",
       "      <th>42642</th>\n",
       "      <td>In the '70s, Charlton Heston starred in sci-fi...</td>\n",
       "      <td>1</td>\n",
       "    </tr>\n",
       "  </tbody>\n",
       "</table>\n",
       "</div>"
      ],
      "text/plain": [
       "                                                    Text  Sentiment\n",
       "11841  Al Pacino was once an actor capable of making ...          0\n",
       "19602  After Chaplin made one of his best films: Doug...          0\n",
       "45519  This movie is sort of a Carrie meets Heavy Met...          1\n",
       "25747  I have fond memories of watching this visually...          1\n",
       "42642  In the '70s, Charlton Heston starred in sci-fi...          1"
      ]
     },
     "execution_count": 1,
     "metadata": {},
     "output_type": "execute_result"
    }
   ],
   "source": [
    "import pandas as pd\n",
    "\n",
    "df = pd.read_csv('Data/reviews.csv', encoding=\"ISO-8859-1\")\n",
    "df = df.sample(frac=1, random_state=0)\n",
    "df.head()"
   ]
  },
  {
   "cell_type": "code",
   "execution_count": 2,
   "id": "3a7d08e1",
   "metadata": {},
   "outputs": [
    {
     "data": {
      "text/html": [
       "<div>\n",
       "<style scoped>\n",
       "    .dataframe tbody tr th:only-of-type {\n",
       "        vertical-align: middle;\n",
       "    }\n",
       "\n",
       "    .dataframe tbody tr th {\n",
       "        vertical-align: top;\n",
       "    }\n",
       "\n",
       "    .dataframe thead tr th {\n",
       "        text-align: left;\n",
       "    }\n",
       "\n",
       "    .dataframe thead tr:last-of-type th {\n",
       "        text-align: right;\n",
       "    }\n",
       "</style>\n",
       "<table border=\"1\" class=\"dataframe\">\n",
       "  <thead>\n",
       "    <tr>\n",
       "      <th></th>\n",
       "      <th colspan=\"4\" halign=\"left\">Text</th>\n",
       "    </tr>\n",
       "    <tr>\n",
       "      <th></th>\n",
       "      <th>count</th>\n",
       "      <th>unique</th>\n",
       "      <th>top</th>\n",
       "      <th>freq</th>\n",
       "    </tr>\n",
       "    <tr>\n",
       "      <th>Sentiment</th>\n",
       "      <th></th>\n",
       "      <th></th>\n",
       "      <th></th>\n",
       "      <th></th>\n",
       "    </tr>\n",
       "  </thead>\n",
       "  <tbody>\n",
       "    <tr>\n",
       "      <th>0</th>\n",
       "      <td>24697</td>\n",
       "      <td>24697</td>\n",
       "      <td>Al Pacino was once an actor capable of making ...</td>\n",
       "      <td>1</td>\n",
       "    </tr>\n",
       "    <tr>\n",
       "      <th>1</th>\n",
       "      <td>24884</td>\n",
       "      <td>24884</td>\n",
       "      <td>This movie is sort of a Carrie meets Heavy Met...</td>\n",
       "      <td>1</td>\n",
       "    </tr>\n",
       "  </tbody>\n",
       "</table>\n",
       "</div>"
      ],
      "text/plain": [
       "            Text                                                            \\\n",
       "           count unique                                                top   \n",
       "Sentiment                                                                    \n",
       "0          24697  24697  Al Pacino was once an actor capable of making ...   \n",
       "1          24884  24884  This movie is sort of a Carrie meets Heavy Met...   \n",
       "\n",
       "                \n",
       "          freq  \n",
       "Sentiment       \n",
       "0            1  \n",
       "1            1  "
      ]
     },
     "execution_count": 2,
     "metadata": {},
     "output_type": "execute_result"
    }
   ],
   "source": [
    "df = df.drop_duplicates()\n",
    "df.groupby('Sentiment').describe()"
   ]
  },
  {
   "cell_type": "code",
   "execution_count": 3,
   "id": "7139ea96",
   "metadata": {},
   "outputs": [
    {
     "name": "stderr",
     "output_type": "stream",
     "text": [
      "/Users/marlenepostop/Documents/Applied-Machine-Learning/tf_mps/lib/python3.11/site-packages/keras/src/layers/core/input_layer.py:27: UserWarning: Argument `input_shape` is deprecated. Use `shape` instead.\n",
      "  warnings.warn(\n",
      "/Users/marlenepostop/Documents/Applied-Machine-Learning/tf_mps/lib/python3.11/site-packages/keras/src/layers/core/embedding.py:97: UserWarning: Argument `input_length` is deprecated. Just remove it.\n",
      "  warnings.warn(\n"
     ]
    },
    {
     "data": {
      "text/html": [
       "<pre style=\"white-space:pre;overflow-x:auto;line-height:normal;font-family:Menlo,'DejaVu Sans Mono',consolas,'Courier New',monospace\"><span style=\"font-weight: bold\">Model: \"sequential\"</span>\n",
       "</pre>\n"
      ],
      "text/plain": [
       "\u001b[1mModel: \"sequential\"\u001b[0m\n"
      ]
     },
     "metadata": {},
     "output_type": "display_data"
    },
    {
     "data": {
      "text/html": [
       "<pre style=\"white-space:pre;overflow-x:auto;line-height:normal;font-family:Menlo,'DejaVu Sans Mono',consolas,'Courier New',monospace\">┏━━━━━━━━━━━━━━━━━━━━━━━━━━━━━━━━━┳━━━━━━━━━━━━━━━━━━━━━━━━┳━━━━━━━━━━━━━━━┓\n",
       "┃<span style=\"font-weight: bold\"> Layer (type)                    </span>┃<span style=\"font-weight: bold\"> Output Shape           </span>┃<span style=\"font-weight: bold\">       Param # </span>┃\n",
       "┡━━━━━━━━━━━━━━━━━━━━━━━━━━━━━━━━━╇━━━━━━━━━━━━━━━━━━━━━━━━╇━━━━━━━━━━━━━━━┩\n",
       "│ text_vectorization              │ (<span style=\"color: #00d7ff; text-decoration-color: #00d7ff\">None</span>, <span style=\"color: #00af00; text-decoration-color: #00af00\">500</span>)            │             <span style=\"color: #00af00; text-decoration-color: #00af00\">0</span> │\n",
       "│ (<span style=\"color: #0087ff; text-decoration-color: #0087ff\">TextVectorization</span>)             │                        │               │\n",
       "├─────────────────────────────────┼────────────────────────┼───────────────┤\n",
       "│ embedding (<span style=\"color: #0087ff; text-decoration-color: #0087ff\">Embedding</span>)           │ (<span style=\"color: #00d7ff; text-decoration-color: #00d7ff\">None</span>, <span style=\"color: #00af00; text-decoration-color: #00af00\">500</span>, <span style=\"color: #00af00; text-decoration-color: #00af00\">32</span>)        │       <span style=\"color: #00af00; text-decoration-color: #00af00\">640,000</span> │\n",
       "├─────────────────────────────────┼────────────────────────┼───────────────┤\n",
       "│ flatten (<span style=\"color: #0087ff; text-decoration-color: #0087ff\">Flatten</span>)               │ (<span style=\"color: #00d7ff; text-decoration-color: #00d7ff\">None</span>, <span style=\"color: #00af00; text-decoration-color: #00af00\">16000</span>)          │             <span style=\"color: #00af00; text-decoration-color: #00af00\">0</span> │\n",
       "├─────────────────────────────────┼────────────────────────┼───────────────┤\n",
       "│ dense (<span style=\"color: #0087ff; text-decoration-color: #0087ff\">Dense</span>)                   │ (<span style=\"color: #00d7ff; text-decoration-color: #00d7ff\">None</span>, <span style=\"color: #00af00; text-decoration-color: #00af00\">128</span>)            │     <span style=\"color: #00af00; text-decoration-color: #00af00\">2,048,128</span> │\n",
       "├─────────────────────────────────┼────────────────────────┼───────────────┤\n",
       "│ dense_1 (<span style=\"color: #0087ff; text-decoration-color: #0087ff\">Dense</span>)                 │ (<span style=\"color: #00d7ff; text-decoration-color: #00d7ff\">None</span>, <span style=\"color: #00af00; text-decoration-color: #00af00\">1</span>)              │           <span style=\"color: #00af00; text-decoration-color: #00af00\">129</span> │\n",
       "└─────────────────────────────────┴────────────────────────┴───────────────┘\n",
       "</pre>\n"
      ],
      "text/plain": [
       "┏━━━━━━━━━━━━━━━━━━━━━━━━━━━━━━━━━┳━━━━━━━━━━━━━━━━━━━━━━━━┳━━━━━━━━━━━━━━━┓\n",
       "┃\u001b[1m \u001b[0m\u001b[1mLayer (type)                   \u001b[0m\u001b[1m \u001b[0m┃\u001b[1m \u001b[0m\u001b[1mOutput Shape          \u001b[0m\u001b[1m \u001b[0m┃\u001b[1m \u001b[0m\u001b[1m      Param #\u001b[0m\u001b[1m \u001b[0m┃\n",
       "┡━━━━━━━━━━━━━━━━━━━━━━━━━━━━━━━━━╇━━━━━━━━━━━━━━━━━━━━━━━━╇━━━━━━━━━━━━━━━┩\n",
       "│ text_vectorization              │ (\u001b[38;5;45mNone\u001b[0m, \u001b[38;5;34m500\u001b[0m)            │             \u001b[38;5;34m0\u001b[0m │\n",
       "│ (\u001b[38;5;33mTextVectorization\u001b[0m)             │                        │               │\n",
       "├─────────────────────────────────┼────────────────────────┼───────────────┤\n",
       "│ embedding (\u001b[38;5;33mEmbedding\u001b[0m)           │ (\u001b[38;5;45mNone\u001b[0m, \u001b[38;5;34m500\u001b[0m, \u001b[38;5;34m32\u001b[0m)        │       \u001b[38;5;34m640,000\u001b[0m │\n",
       "├─────────────────────────────────┼────────────────────────┼───────────────┤\n",
       "│ flatten (\u001b[38;5;33mFlatten\u001b[0m)               │ (\u001b[38;5;45mNone\u001b[0m, \u001b[38;5;34m16000\u001b[0m)          │             \u001b[38;5;34m0\u001b[0m │\n",
       "├─────────────────────────────────┼────────────────────────┼───────────────┤\n",
       "│ dense (\u001b[38;5;33mDense\u001b[0m)                   │ (\u001b[38;5;45mNone\u001b[0m, \u001b[38;5;34m128\u001b[0m)            │     \u001b[38;5;34m2,048,128\u001b[0m │\n",
       "├─────────────────────────────────┼────────────────────────┼───────────────┤\n",
       "│ dense_1 (\u001b[38;5;33mDense\u001b[0m)                 │ (\u001b[38;5;45mNone\u001b[0m, \u001b[38;5;34m1\u001b[0m)              │           \u001b[38;5;34m129\u001b[0m │\n",
       "└─────────────────────────────────┴────────────────────────┴───────────────┘\n"
      ]
     },
     "metadata": {},
     "output_type": "display_data"
    },
    {
     "data": {
      "text/html": [
       "<pre style=\"white-space:pre;overflow-x:auto;line-height:normal;font-family:Menlo,'DejaVu Sans Mono',consolas,'Courier New',monospace\"><span style=\"font-weight: bold\"> Total params: </span><span style=\"color: #00af00; text-decoration-color: #00af00\">2,688,257</span> (10.25 MB)\n",
       "</pre>\n"
      ],
      "text/plain": [
       "\u001b[1m Total params: \u001b[0m\u001b[38;5;34m2,688,257\u001b[0m (10.25 MB)\n"
      ]
     },
     "metadata": {},
     "output_type": "display_data"
    },
    {
     "data": {
      "text/html": [
       "<pre style=\"white-space:pre;overflow-x:auto;line-height:normal;font-family:Menlo,'DejaVu Sans Mono',consolas,'Courier New',monospace\"><span style=\"font-weight: bold\"> Trainable params: </span><span style=\"color: #00af00; text-decoration-color: #00af00\">2,688,257</span> (10.25 MB)\n",
       "</pre>\n"
      ],
      "text/plain": [
       "\u001b[1m Trainable params: \u001b[0m\u001b[38;5;34m2,688,257\u001b[0m (10.25 MB)\n"
      ]
     },
     "metadata": {},
     "output_type": "display_data"
    },
    {
     "data": {
      "text/html": [
       "<pre style=\"white-space:pre;overflow-x:auto;line-height:normal;font-family:Menlo,'DejaVu Sans Mono',consolas,'Courier New',monospace\"><span style=\"font-weight: bold\"> Non-trainable params: </span><span style=\"color: #00af00; text-decoration-color: #00af00\">0</span> (0.00 B)\n",
       "</pre>\n"
      ],
      "text/plain": [
       "\u001b[1m Non-trainable params: \u001b[0m\u001b[38;5;34m0\u001b[0m (0.00 B)\n"
      ]
     },
     "metadata": {},
     "output_type": "display_data"
    }
   ],
   "source": [
    "from tensorflow.keras.models import Sequential\n",
    "from tensorflow.keras.layers import TextVectorization, InputLayer\n",
    "from tensorflow.keras.layers import Dense, Flatten, Embedding\n",
    "import tensorflow as tf\n",
    "\n",
    "max_words = 20000\n",
    "max_length = 500\n",
    " \n",
    "model = Sequential()\n",
    "model.add(InputLayer(input_shape=(1,), dtype=tf.string))\n",
    "model.add(TextVectorization(max_tokens=max_words, output_sequence_length=max_length))\n",
    "model.add(Embedding(max_words, 32, input_length=max_length))\n",
    "model.add(Flatten())\n",
    "model.add(Dense(128, activation='relu'))\n",
    "model.add(Dense(1, activation='sigmoid'))\n",
    "model.compile(loss='binary_crossentropy', optimizer='adam', metrics=['accuracy'])\n",
    "model.summary()"
   ]
  },
  {
   "cell_type": "code",
   "execution_count": 27,
   "id": "9fb9d2e2",
   "metadata": {},
   "outputs": [
    {
     "name": "stdout",
     "output_type": "stream",
     "text": [
      "{np.int64(0): np.int64(24697), np.int64(1): np.int64(24884)}\n",
      "Epoch 1/5\n",
      "\u001b[1m100/100\u001b[0m \u001b[32m━━━━━━━━━━━━━━━━━━━━\u001b[0m\u001b[37m\u001b[0m \u001b[1m3s\u001b[0m 31ms/step - accuracy: 0.5008 - loss: 1.8994 - val_accuracy: 0.4974 - val_loss: 0.6932\n",
      "Epoch 2/5\n",
      "\u001b[1m100/100\u001b[0m \u001b[32m━━━━━━━━━━━━━━━━━━━━\u001b[0m\u001b[37m\u001b[0m \u001b[1m3s\u001b[0m 31ms/step - accuracy: 0.4988 - loss: 0.6932 - val_accuracy: 0.4974 - val_loss: 0.6932\n",
      "Epoch 3/5\n",
      "\u001b[1m100/100\u001b[0m \u001b[32m━━━━━━━━━━━━━━━━━━━━\u001b[0m\u001b[37m\u001b[0m \u001b[1m3s\u001b[0m 32ms/step - accuracy: 0.4945 - loss: 0.6932 - val_accuracy: 0.5026 - val_loss: 0.6931\n",
      "Epoch 4/5\n",
      "\u001b[1m100/100\u001b[0m \u001b[32m━━━━━━━━━━━━━━━━━━━━\u001b[0m\u001b[37m\u001b[0m \u001b[1m3s\u001b[0m 31ms/step - accuracy: 0.4982 - loss: 0.6932 - val_accuracy: 0.5026 - val_loss: 0.6931\n",
      "Epoch 5/5\n",
      "\u001b[1m100/100\u001b[0m \u001b[32m━━━━━━━━━━━━━━━━━━━━\u001b[0m\u001b[37m\u001b[0m \u001b[1m3s\u001b[0m 33ms/step - accuracy: 0.5012 - loss: 0.6932 - val_accuracy: 0.5026 - val_loss: 0.6931\n"
     ]
    }
   ],
   "source": [
    "# x = df['Text']\n",
    "# y = df['Sentiment']\n",
    "from sklearn.utils import shuffle\n",
    "\n",
    "\n",
    "x = df['Text'].astype(str).to_numpy()  \n",
    "y = df['Sentiment'].to_numpy()\n",
    "\n",
    "\n",
    "x, y = shuffle(x, y, random_state=42)\n",
    "\n",
    "unique, counts = np.unique(y, return_counts=True)\n",
    "print(dict(zip(unique, counts)))\n",
    "y.dtype\n",
    "model.layers[0].adapt(x)\n",
    "\n",
    "hist = model.fit(x, y, validation_split=0.5, epochs=5, batch_size=250)"
   ]
  },
  {
   "cell_type": "code",
   "execution_count": 14,
   "id": "7b75a9ac",
   "metadata": {},
   "outputs": [
    {
     "name": "stdout",
     "output_type": "stream",
     "text": [
      "Well, 1st off I haven't seen \"Silence of the Lambs\" yet.... but, I think that I would have become sick if I would have seen it before this piece. Not from the gruesome violence but, from the lack of everything else. Anthony Hopkins was very good as Hannibal and I really believed that he was as psychotic as he played himself off to be but, from the reaction of the audience around me, the film was filled with cliches from \"Silence\" which left me lost at points where others were laughing at what was on the screen. Now, I heard that the movie would be very gruesome and if the director wanted to gross folks out... he did it... but, only in 2 sequences? I mean, if you want it to be gruesome and I mean, so gruesome that you're going to play the film off of that... you need more than 2 sequences.. I always see it as a film has to either become that cinematic jewel which will ultimatley take you to another place and time or either go over the top (which most of the time is done in bad taste). But, this film left me sitting in my chair and falling asleep at times.  Anthony Hopkins and Julianne Moore are the stars of the movie, right? Well, with the exception of Hopkins, I didn't feel that way.. Who cared about the stupid Italian police officer? I definatley didn't. So, really the film is left with a big hole talking about a guy who dies anyway. I mean, come on.. who cares? In a nutshell, the movie is good if you want to see Lector and Starling once again but, if you're going for a really good thriller... you'll jump once and be grossed out maybe twice. Depends on your level. Thinking about how much money this movie will bring in... there will probably be another \"Hannibal\" made and this movie probably won't be on video until the fall. If you must see it.. wait and save the $3.50 - $4.00 and get it on video. Don't spend the big bucks on this film. 0\n",
      "The original \"Cube\" is a fantastic B-movie rich with paranoia, meaty characterization, and fine over-the-top performances. It's creepy, cryptic, and cool. And it stands perfectly well, on its own, without a stupid sequel like \"Cube Zero.\"  This third (!) film in the Cube series is part retread (most of the booby traps are sadly recycled), part aberration. It takes the bold step of explaining what the cube is - something that was never revealed in the first movie - but, since said explanation is bland, I'd rather it was kept a secret. There are some potentially interesting references to the society that exists outside of the cube, but they never develop beyond hints about some kind of political-religious totalitarian state. So, what little social commentary there is feels flat and unfocused. What works? Basically nothing. The acting is purely amateur hour, the pacing is slow (how much of this movie consists of two nerds watching a screen?), and the gore effects, while revolting, fail to convince. In short, \"Cube Zero\" reminded me of a \"Cube\" fan-fic, a sloppy and sophomoric clone of a good movie that definitely did not need a sequel. 0\n",
      "I am 13 years old and I am writing this review in my mom's sign in. She will write her own review later.  This is my all time favorite movie.It was filmed in England in 1944. I watched it so many times when I was little that I wore out the video tape. I love this movie and it changed my life! The beautiful landscapes. The mighty pie-bold thoroughbred horse. The plain little Irish village with the young girl who wanted to do what no other girl had ever done, compete in The Grand National Steeplechase in London with her most beloved horse, The Pirate. It all made me want to ride horses (which I have done now for 7 years)and learn everything I could about their breeds so I could also draw and paint them. It's a ground breaking movie about winning against all odds, overcoming your fears, believing in yourself, and reaching difficult goals by working very hard. Also, the horse race scene was one of the best ever made and I have seen many movies with horse races. I never get tired of watching this movie. Everything about it is perfect. Especially if you are a young girl and passionate about horses! 0\n",
      "This movie was so bad If anyone out their who starred in the movie are reading this including the director,i HATE YOU! LOL,that blonde woman, who was running away screaming through the forest.At least CRY RATHER THAN SCREAM AND KEEP DOING THE DODGY HEAVY BREATHING!! and oh dear god, if it was the director who sorted out the cameras on this one, then go back to a normal job. No one wants to be watching some scared woman's chin throughout it.Damn, don't even THINK about renting/buying or even having a copy of this within 100 metre radius of your house since it can be harmful to,people who like good movies...When i got home, i thought id rented a pron movie by the acting and style of the camera. 0\n",
      "This is a terrible remake of a marginal, but well liked, movie from the early 70's. I have seen the original at least 6 times. The 1997 version is a 20 minute movie 'crammed' into 2 hours or whatever the runtime is. Cheesy storyline, which by the way, is completely different than the original. The major government involvement was far-fetched. There is no flow from one scene to the next. In the original you could go get a beer or hit the bathroom and still keep up.  It only took a few hours movie time to change the oil pan on the car. It takes many times longer than that in real life. Car guys notice this stuff. Also, the fool or fools that chose to trash a 1968 Charger and abuse a 1970 Challenger should be shot in the heel with a dull bullet. The fact they aren't 'car people' is painfully obvious, and their passing will not be grieved.  The actors lacked any emotion, everything was cut and dried. One step above a monotone. A barmitzvah is more exciting and energetic. Last but surely not least, the radio DJ made the statement that the Challenger hit the bulldozers at 180 or 185 (??). That is total garbage. Can you say aerodynamics, or lack thereof?? Hahahaha!! This movie is a joke. Don't waste your time watching this one. 0\n",
      "This movie is about this wimpy guy who decides to become a spy for a glamorous high tech company named Digicorp. This wimpy guy, Morgan (Jeremy Northam) is unhappy with his miserable suburban life and his demanding wife so he decides to become a spy. He is suppose to go to conventions from other high tech companies and find out all the companies' plans. Instead, Morgan finds himself attracted to a beautiful woman (played by Lucy Liu) and pretty much being double-crossed by these two companies that force him to become a double agent. How will Morgan get himself out of this? Can he trust the beautiful but mysterious Rita Foster (played by Lucy Liu)? And more importantly, can Morgan make it out alive? Wow! What a nifty movie! I was completely sucked in after 15 minutes of watching this movie. It is very suspenseful and you can feel Morgan's fear and confusion as he is doing his best to stay alive. The scene where they put this horrible contraption on Morgan's head to brainwash him is brilliantly creepy and frightening. Morgan slowly goes through a personality transformation that is not so readily apparent until you think about it after the film is finished. From a wimpy guy with bad hair and glasses, he turns into a man actively fighting for his life. The ending, wow, the ending is incredible! The twist is so much fun! It left me gasping and cheering like crazy! Good performances from all around, especially from Jeremy Natham, Lucy Liu and Nigel Bennett. I highly recommend this film! 0\n",
      "For Columbo fans, such as myself, this is the episode of episodes that made a case for why Columbo was so popular, and just how good it really was. Ruth Gordon has a field day (as ever) playing the wittily intelligent crime novelist Abigail Mitchell. Seems Abigail calls her nephew-in-law to sign some papers making him her heir. She never got over her niece's death, and is convinced her dead niece's husband (Charles Frank) did the dirty deed. To tell more would be unthinkable. Mariette Hartley has a sly role as Abigail's personal assistant. This episode of Columbo is in a class by itself. It's a truly well made television movie. I recommend it most highly. 0\n",
      "Oh, my gosh...I thought CBS primetime television shows were the worst things Gerald McRaney appeared in... Four people are experimented on by a crazed mind control computer. That's it, don't rent it. I saw this under one of its many titles- \"Grey Matter,\" and it is perhaps one of the worst films of recent memory. The other reviews are right, it is awful. Never have so many establishing shots appeared onscreen, NEVER. The cast is awful, the direction is awful, and the script is awful. I cannot stress how awful this is.  Avoid it like you would smallpox. This is rated (PG) for physical violence, some gun violence, mild gore, some profanity, and some adult situations 0\n",
      "Buddy Holly was a pioneer and victim of the early days of rock 'n' roll. The young singer/songwriter from Lubbock, Texas left his mark on the template of modern music. Inspired by Elvis Presley, Holly would spend a lot of time fighting the system in order to get his rock-a-billy sound recorded. Before his untimely death, he was mixing lush strings with be-bop rhythms. Holly would take his place with Presley, Chuck Berry, Jerry Lee Lewis and Ricky Nelson as the voices of teenage angst. This easy to watch bio is not without flaws. Some situations, events, places and even names were not correct for various reasons. What makes this movie so believable is that Gary Busey did his own singing in the part of Holly. A well produced soundtrack became a multi-million seller. Busey was nominated for an Oscar. Other stars of note are Don Stroud, Conrad Janis, Charles Martin Smith and Maria Richwine. 0\n",
      "That is what this movie is. Good God the special effects suck in this movie. It is difficult for anything to suck more than this movie's plot, but the special effects manage to pull it off. Let me try to explain just how bad this movie is. First, there is the plot. There are four punk-ass teenage dirt bikers who are riding around in a forest in Duluth, MN. One of them is a dumb-ass and tries a ridiculous jump and breaks his leg. A paramedic comes to help him, but gets stranded with them when the helicopter breaks. Then all five realize that there is a forest fire, which we see is started by some guy dumping tons of gas all over the forest. All they show us is his boots, and they show scene after scene of this guys boots walking around dumping gas and starting fires. Meanwhile, the teenagers try to escape the fire, only to find that boot man has somehow managed to get ahead of them (while they were speeding through the forest on dirt bikes!), dump gas all over the area they were riding through, and start more fires. He does this several times, and the paramedic finally catches him and starts him on fire. I won't spoil the ending, but this guy's resilience will have you shouting \"WHAT THE BLOODY HELL?!?!\" at the screen. Anyway, they are now surrounded by fire, and their only escape is through a mine which is filled with methane gas. Yes, methane gas. I'm not even going to try to describe the ending, because it is too ridiculous, and you'll enjoy it more if you don't see it coming. Which you won't, because you can't possibly expect what happens. This is because of the second major problem with this movie: consistency. Is some semblance of consistence too much to ask for? Apparently so. I cannot even count the number of broken limbs in this movie (they keep breaking arms and legs while crashing their bikes). I think each character breaks at least one limb, and several more than one. They then limp around until the scene ends, and then forget that they're supposed to have broken limbs. There is one scene where three of them who are supposed to have broken legs start dancing. But then their injuries suddenly return when the plot needs them to. Finally, the CGI. If there is a hell, it consists of watching the fire in this movie. All they did for the forest fires is line the dirt paths with CGI fire. You can clearly see that the only CGI fire is along the paths, and all of the trees more than two feet from the path are left untouched. And then they zoom out and show the whole forest being engulfed in flames. It's hard to describe in words how ridiculous it looks, but I assure you that the ridiculousness is quite impressive. This movie is one of those so-bad-its-good types. There are some occasions where it descends into the painful-bad category, but for the most part it stays above the line and is laughably inept. I can't wait to check out the other Nature Unleashed movies that came in the four-pack with this one. 0\n"
     ]
    }
   ],
   "source": [
    "for i in range(10):\n",
    "    print(x[i], y[i])"
   ]
  },
  {
   "cell_type": "code",
   "execution_count": 15,
   "id": "69c43789",
   "metadata": {},
   "outputs": [
    {
     "name": "stdout",
     "output_type": "stream",
     "text": [
      "{np.int64(0): np.int64(49581)}\n"
     ]
    }
   ],
   "source": [
    "import numpy as np\n",
    "unique, counts = np.unique(y, return_counts=True)\n",
    "print(dict(zip(unique, counts)))"
   ]
  }
 ],
 "metadata": {
  "kernelspec": {
   "display_name": "tf_mps",
   "language": "python",
   "name": "python3"
  },
  "language_info": {
   "codemirror_mode": {
    "name": "ipython",
    "version": 3
   },
   "file_extension": ".py",
   "mimetype": "text/x-python",
   "name": "python",
   "nbconvert_exporter": "python",
   "pygments_lexer": "ipython3",
   "version": "3.11.13"
  }
 },
 "nbformat": 4,
 "nbformat_minor": 5
}
